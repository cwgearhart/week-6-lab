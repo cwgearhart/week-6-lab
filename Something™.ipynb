{
 "cells": [
  {
   "cell_type": "code",
   "execution_count": null,
   "metadata": {},
   "outputs": [],
   "source": [
    "name = input(\"What is your name?\")\n",
    "print(\"Hello, \" + name + \". Nice to meet you. I'm sure you'd like to know if you are legally allowed to drink in PA now tht you are a PITT student\")\n",
    "age = input(\"Please tell me your age.\")\n",
    "age = int(age)\n",
    "if age > 20:\n",
    "    print(\"You ARE able to drink legally in PA. Have fun! Be safe!\")\n",
    "elif age < 18:\n",
    "    print(\"Yeah, \" + name + \", I'm not even sure why you are taking this quiz. Alcohol shouldn't even be on your mind youngin.\")\n",
    "else:\n",
    "    print(\"Ehh. I mean it's not LEGAL. But you're in college. Old enough to drive. Old enough to vote. Old enough to be charged as an adult. So hey, \" + name + \" make your own decisions.\")"
   ]
  },
  {
   "cell_type": "code",
   "execution_count": null,
   "metadata": {},
   "outputs": [],
   "source": []
  }
 ],
 "metadata": {
  "kernelspec": {
   "display_name": "Python 3.7",
   "language": "python",
   "name": "python3"
  },
  "language_info": {
   "codemirror_mode": {
    "name": "ipython",
    "version": 3
   },
   "file_extension": ".py",
   "mimetype": "text/x-python",
   "name": "python",
   "nbconvert_exporter": "python",
   "pygments_lexer": "ipython3",
   "version": "3.7.0"
  }
 },
 "nbformat": 4,
 "nbformat_minor": 2
}
